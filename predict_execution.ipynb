{
 "cells": [
  {
   "cell_type": "code",
   "execution_count": 1,
   "id": "f4811a68",
   "metadata": {},
   "outputs": [],
   "source": [
    "import json\n"
   ]
  },
  {
   "cell_type": "code",
   "execution_count": 4,
   "id": "f4aa8225",
   "metadata": {},
   "outputs": [],
   "source": [
    "from sklearn.linear_model import LinearRegression"
   ]
  },
  {
   "cell_type": "code",
   "execution_count": 3,
   "id": "4389d4a8",
   "metadata": {},
   "outputs": [
    {
     "name": "stdout",
     "output_type": "stream",
     "text": [
      "[1, 1024, 128, 16, 2, 2048, 256, 32, 4, 4096, 512, 64, 8, 8192, 16384, 262144, 32768, 131072]\n",
      "[0.0, 0.6875, 0.0078125, 0.0, 0.0, 3.15625, 0.0234375, 0.0, 0.0, 13.140625, 0.140625, 0.0, 0.0, 56.2421875, 146.15625, 41263.953125, 610.53125, 9797.4140625]\n",
      "18 18\n"
     ]
    }
   ],
   "source": [
    "with open('./A_0.json') as fp:\n",
    "    data = json.load(fp)\n",
    "\n",
    "lines = data.keys()\n",
    "values = data.values()\n",
    "X = []\n",
    "for line in lines:\n",
    "    tmp = line.split('.')[0]\n",
    "    X.append(int(tmp))\n",
    "print(X)\n",
    "Y = []\n",
    "for ex in values:\n",
    "    Y.append(sum(ex) / 2)\n",
    "\n",
    "print(Y)\n",
    "print(len(X),len(Y))\n",
    "    \n",
    "    \n"
   ]
  },
  {
   "cell_type": "code",
   "execution_count": 9,
   "id": "2e242b4e",
   "metadata": {},
   "outputs": [
    {
     "name": "stdout",
     "output_type": "stream",
     "text": [
      "[[     1]\n",
      " [  1024]\n",
      " [   128]\n",
      " [    16]\n",
      " [     2]\n",
      " [  2048]\n",
      " [   256]\n",
      " [    32]\n",
      " [     4]\n",
      " [  4096]\n",
      " [   512]\n",
      " [    64]\n",
      " [     8]\n",
      " [  8192]\n",
      " [ 16384]\n",
      " [262144]\n",
      " [ 32768]\n",
      " [131072]]\n"
     ]
    }
   ],
   "source": [
    "import numpy as np\n",
    "X = np.array(X).reshape(-1,1)\n",
    "reg = LinearRegression().fit(X.reshape(-1,1), Y)"
   ]
  },
  {
   "cell_type": "code",
   "execution_count": 11,
   "id": "f7b8f5ba",
   "metadata": {},
   "outputs": [
    {
     "data": {
      "text/plain": [
       "array([ 74114.36588267, 148985.43098969, 298727.56120374, 598211.82163184])"
      ]
     },
     "execution_count": 11,
     "metadata": {},
     "output_type": "execute_result"
    }
   ],
   "source": [
    "reg.predict(np.array([524288, 1048576, 2097152, 4194304]).reshape(-1,1))"
   ]
  },
  {
   "cell_type": "code",
   "execution_count": 16,
   "id": "928da982",
   "metadata": {},
   "outputs": [
    {
     "name": "stdout",
     "output_type": "stream",
     "text": [
      "[1, 1024, 128, 16, 2, 2048, 256, 32, 4, 4096, 512, 64, 8, 8192, 131072, 16384, 262144]\n",
      "[0.0, 1.5078125, 0.0, 0.0, 0.0, 7.203125, 0.046875, 0.0, 0.0, 28.546875, 0.2421875, 0.0, 0.0, 107.9609375, 18059.375, 264.859375, 71607.8125]\n",
      "17 17\n"
     ]
    }
   ],
   "source": [
    "data = {}\n",
    "with open('./B_0.json') as fp:\n",
    "    data = json.load(fp)\n",
    "\n",
    "lines = data.keys()\n",
    "values = data.values()\n",
    "X_B = []\n",
    "for line in lines:\n",
    "    tmp = line.split('.')[0]\n",
    "    X_B.append(int(tmp))\n",
    "print(X_B)\n",
    "Y_B = []\n",
    "for ex in values:\n",
    "    Y_B.append(sum(ex) / 2)\n",
    "\n",
    "print(Y_B)\n",
    "print(len(X_B),len(Y_B))"
   ]
  },
  {
   "cell_type": "code",
   "execution_count": 17,
   "id": "6e90d5fa",
   "metadata": {},
   "outputs": [
    {
     "data": {
      "text/plain": [
       "array([  15413.44850916,  130047.32856658,  261057.47720363,\n",
       "        523077.77447774, 1047118.36902596])"
      ]
     },
     "execution_count": 17,
     "metadata": {},
     "output_type": "execute_result"
    }
   ],
   "source": [
    "X_B = np.array(X_B).reshape(-1,1)\n",
    "reg_2 = LinearRegression().fit(X_B.reshape(-1,1), Y_B)\n",
    "reg_2.predict(np.array([65536, 524288, 1048576, 2097152, 4194304]).reshape(-1,1))"
   ]
  },
  {
   "cell_type": "code",
   "execution_count": null,
   "id": "83a3b0fc",
   "metadata": {},
   "outputs": [],
   "source": []
  }
 ],
 "metadata": {
  "kernelspec": {
   "display_name": "Python 3 (ipykernel)",
   "language": "python",
   "name": "python3"
  },
  "language_info": {
   "codemirror_mode": {
    "name": "ipython",
    "version": 3
   },
   "file_extension": ".py",
   "mimetype": "text/x-python",
   "name": "python",
   "nbconvert_exporter": "python",
   "pygments_lexer": "ipython3",
   "version": "3.9.7"
  }
 },
 "nbformat": 4,
 "nbformat_minor": 5
}
